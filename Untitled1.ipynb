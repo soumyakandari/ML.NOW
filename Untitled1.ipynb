{
  "nbformat": 4,
  "nbformat_minor": 0,
  "metadata": {
    "colab": {
      "name": "Untitled1.ipynb",
      "provenance": [],
      "authorship_tag": "ABX9TyNQOadAXwjj0GoM5QvWLH2D",
      "include_colab_link": true
    },
    "kernelspec": {
      "name": "python3",
      "display_name": "Python 3"
    },
    "language_info": {
      "name": "python"
    },
    "accelerator": "GPU"
  },
  "cells": [
    {
      "cell_type": "markdown",
      "metadata": {
        "id": "view-in-github",
        "colab_type": "text"
      },
      "source": [
        "<a href=\"https://colab.research.google.com/github/soumyakandari/ML.NOW/blob/main/Untitled1.ipynb\" target=\"_parent\"><img src=\"https://colab.research.google.com/assets/colab-badge.svg\" alt=\"Open In Colab\"/></a>"
      ]
    },
    {
      "cell_type": "markdown",
      "metadata": {
        "id": "ATelM-ZKeclL"
      },
      "source": [
        "Date Created on :  23rd May     \n",
        "AUTHOR : [Soumya](https://github.com/soumyakandari)\n",
        "\n",
        "## **PROBLEM STATEMENT**\n",
        "Train a model to learn the table of 10 \n",
        "\n",
        " Equation : `y=10X`\n",
        "\n",
        "\n",
        "\n",
        "\n",
        "**DATA** **CREATION**\n",
        "\n",
        " Equation : \n",
        "`\n",
        "y=10X`\n",
        "Data set\n",
        "\n",
        "Target -->\n",
        "```\n",
        "x= [0,1,2,3....]\n",
        "y =[0,10,20,30..]\n",
        "```\n",
        "\n",
        "\n",
        "\n"
      ]
    },
    {
      "cell_type": "code",
      "metadata": {
        "colab": {
          "base_uri": "https://localhost:8080/"
        },
        "id": "RX2Pk7VqfCNw",
        "outputId": "24d6057d-85d3-4050-cfca-65c0f56f44c6"
      },
      "source": [
        " x= [ i for i in range(21) ] #list comprehesnion\n",
        "print(x)"
      ],
      "execution_count": 1,
      "outputs": [
        {
          "output_type": "stream",
          "text": [
            "[0, 1, 2, 3, 4, 5, 6, 7, 8, 9, 10, 11, 12, 13, 14, 15, 16, 17, 18, 19, 20]\n"
          ],
          "name": "stdout"
        }
      ]
    },
    {
      "cell_type": "code",
      "metadata": {
        "id": "KDZ2Ztu2xraQ",
        "outputId": "ad97aff8-00fb-430f-90da-b97cfb6b1daf",
        "colab": {
          "base_uri": "https://localhost:8080/"
        }
      },
      "source": [
        "y = [ i*10 for i in range(21)]\n",
        "print(y)"
      ],
      "execution_count": 2,
      "outputs": [
        {
          "output_type": "stream",
          "text": [
            "[0, 10, 20, 30, 40, 50, 60, 70, 80, 90, 100, 110, 120, 130, 140, 150, 160, 170, 180, 190, 200]\n"
          ],
          "name": "stdout"
        }
      ]
    },
    {
      "cell_type": "markdown",
      "metadata": {
        "id": "1av2k3XDeb2Y"
      },
      "source": [
        "##Approach 1\n",
        "Defining a function for the equation `y=10X`"
      ]
    },
    {
      "cell_type": "code",
      "metadata": {
        "id": "_qC1cyUnx_33",
        "outputId": "333e0fc9-666b-4e37-a714-36f465493e13",
        "colab": {
          "base_uri": "https://localhost:8080/"
        }
      },
      "source": [
        "def tableoften(x):\n",
        "  y=10*x\n",
        "  return y\n",
        "\n",
        "for value in x:\n",
        "  print(tableoften(value))\n",
        "\n",
        "\n",
        "\n"
      ],
      "execution_count": 3,
      "outputs": [
        {
          "output_type": "stream",
          "text": [
            "0\n",
            "10\n",
            "20\n",
            "30\n",
            "40\n",
            "50\n",
            "60\n",
            "70\n",
            "80\n",
            "90\n",
            "100\n",
            "110\n",
            "120\n",
            "130\n",
            "140\n",
            "150\n",
            "160\n",
            "170\n",
            "180\n",
            "190\n",
            "200\n"
          ],
          "name": "stdout"
        }
      ]
    },
    {
      "cell_type": "markdown",
      "metadata": {
        "id": "6ePDTZB1yTRK"
      },
      "source": [
        "##Approach 2\n",
        "\n",
        "Super excited to try ML here. so, I'm gonna make a redundant ML model for the table of 10.\n",
        "\n",
        "We are going to require:\n",
        "`xtrain`, `ytrain`,`xtest`,`ytest` from the list `x` and `y` ."
      ]
    },
    {
      "cell_type": "code",
      "metadata": {
        "id": "hIK7IpUOy2nN",
        "outputId": "5f127cc6-2117-4357-c760-373d76867dbe",
        "colab": {
          "base_uri": "https://localhost:8080/"
        }
      },
      "source": [
        "print(f'This is list x: {x}')\n",
        "print(f'This is list y: {y}')"
      ],
      "execution_count": 4,
      "outputs": [
        {
          "output_type": "stream",
          "text": [
            "This is list x: [0, 1, 2, 3, 4, 5, 6, 7, 8, 9, 10, 11, 12, 13, 14, 15, 16, 17, 18, 19, 20]\n",
            "This is list y: [0, 10, 20, 30, 40, 50, 60, 70, 80, 90, 100, 110, 120, 130, 140, 150, 160, 170, 180, 190, 200]\n"
          ],
          "name": "stdout"
        }
      ]
    },
    {
      "cell_type": "code",
      "metadata": {
        "id": "ZidebmZBzS3t",
        "outputId": "4fa88c17-0683-4bb8-c15c-8cf7df984216",
        "colab": {
          "base_uri": "https://localhost:8080/"
        }
      },
      "source": [
        "xtrain =x[:-5] #training the data\n",
        "ytrain = y[:-5] #training labels\n",
        "\n",
        "xtest =x[-5:] #testing the data\n",
        "ytest= y[-5:] #testing labels\n",
        "\n",
        "\n",
        "print(f'''\n",
        "\n",
        "Training Data:\n",
        " xtrain :{xtrain}\n",
        "ytrain :{ytrain}\n",
        "\n",
        "Testing Data:\n",
        "\n",
        "xtest: {xtest}\n",
        "ytest : {ytest}\n",
        "''')"
      ],
      "execution_count": 6,
      "outputs": [
        {
          "output_type": "stream",
          "text": [
            "\n",
            "\n",
            "Training Data:\n",
            " xtrain :[0, 1, 2, 3, 4, 5, 6, 7, 8, 9, 10, 11, 12, 13, 14, 15]\n",
            "ytrain :[0, 10, 20, 30, 40, 50, 60, 70, 80, 90, 100, 110, 120, 130, 140, 150]\n",
            "\n",
            "Testing Data:\n",
            "\n",
            "xtest: [16, 17, 18, 19, 20]\n",
            "ytest : [160, 170, 180, 190, 200]\n",
            "\n"
          ],
          "name": "stdout"
        }
      ]
    },
    {
      "cell_type": "code",
      "metadata": {
        "id": "CvMV4Ozh0YF4"
      },
      "source": [
        "import tensorflow as tf\n",
        "from tensorflow import keras"
      ],
      "execution_count": 9,
      "outputs": []
    },
    {
      "cell_type": "code",
      "metadata": {
        "id": "WR5zU00J0ooo"
      },
      "source": [
        "#perceptron Model\n",
        "\n",
        "model = tf.keras.Sequential([\n",
        "    tf.keras.layers.Dense(units=1,input_shape=[1])               #unit is the number of neuron and input_shape is the shape of the input to your neuron\n",
        "    ])"
      ],
      "execution_count": 12,
      "outputs": []
    },
    {
      "cell_type": "markdown",
      "metadata": {
        "id": "WutJAbKP1UFc"
      },
      "source": [
        "h(xtrain) = [...]\n",
        "\n",
        "ytrain =[]\n",
        "\n",
        "length of the ytrain :\n",
        "\n",
        "n=len(ytrain)\n",
        "\n",
        "MAE= ((xtrain_i-h(xtrain_i)))/n"
      ]
    },
    {
      "cell_type": "code",
      "metadata": {
        "id": "J7zD7eUb2GfM"
      },
      "source": [
        "model.compile(optimizer='adam',loss='mae')\n",
        "\n",
        "# optimizers ---> sgd, rmsprop ,adamax,adagrad;     loss -->mse , mae(This is regression sample )"
      ],
      "execution_count": null,
      "outputs": []
    },
    {
      "cell_type": "markdown",
      "metadata": {
        "id": "LadbsUPk2oYc"
      },
      "source": [
        "`val_loss` and `loss` can be analogous to `J(x)` or your cost function"
      ]
    },
    {
      "cell_type": "code",
      "metadata": {
        "id": "a8cN4Lkw2lCq",
        "outputId": "b771770d-81bd-49af-c240-63b565e3aa6c",
        "colab": {
          "base_uri": "https://localhost:8080/",
          "height": 320
        }
      },
      "source": [
        "numEpoch = 5000\n",
        "model.fit(x=xtrain,  y=ytrain, validation_data =(xtest,ytest), epochs= numEpoch)"
      ],
      "execution_count": 15,
      "outputs": [
        {
          "output_type": "error",
          "ename": "RuntimeError",
          "evalue": "ignored",
          "traceback": [
            "\u001b[0;31m---------------------------------------------------------------------------\u001b[0m",
            "\u001b[0;31mRuntimeError\u001b[0m                              Traceback (most recent call last)",
            "\u001b[0;32m<ipython-input-15-dc227228c5aa>\u001b[0m in \u001b[0;36m<module>\u001b[0;34m()\u001b[0m\n\u001b[1;32m      1\u001b[0m \u001b[0mnumEpoch\u001b[0m \u001b[0;34m=\u001b[0m \u001b[0;36m5000\u001b[0m\u001b[0;34m\u001b[0m\u001b[0;34m\u001b[0m\u001b[0m\n\u001b[0;32m----> 2\u001b[0;31m \u001b[0mmodel\u001b[0m\u001b[0;34m.\u001b[0m\u001b[0mfit\u001b[0m\u001b[0;34m(\u001b[0m\u001b[0mx\u001b[0m\u001b[0;34m=\u001b[0m\u001b[0mxtrain\u001b[0m\u001b[0;34m,\u001b[0m  \u001b[0my\u001b[0m\u001b[0;34m=\u001b[0m\u001b[0mytrain\u001b[0m\u001b[0;34m,\u001b[0m \u001b[0mvalidation_data\u001b[0m \u001b[0;34m=\u001b[0m\u001b[0;34m(\u001b[0m\u001b[0mxtest\u001b[0m\u001b[0;34m,\u001b[0m\u001b[0mytest\u001b[0m\u001b[0;34m)\u001b[0m\u001b[0;34m,\u001b[0m \u001b[0mepochs\u001b[0m\u001b[0;34m=\u001b[0m \u001b[0mnumEpoch\u001b[0m\u001b[0;34m)\u001b[0m\u001b[0;34m\u001b[0m\u001b[0;34m\u001b[0m\u001b[0m\n\u001b[0m",
            "\u001b[0;32m/usr/local/lib/python3.7/dist-packages/tensorflow/python/keras/engine/training.py\u001b[0m in \u001b[0;36mfit\u001b[0;34m(self, x, y, batch_size, epochs, verbose, callbacks, validation_split, validation_data, shuffle, class_weight, sample_weight, initial_epoch, steps_per_epoch, validation_steps, validation_batch_size, validation_freq, max_queue_size, workers, use_multiprocessing)\u001b[0m\n\u001b[1;32m   1030\u001b[0m     \u001b[0;31m# Legacy graph support is contained in `training_v1.Model`.\u001b[0m\u001b[0;34m\u001b[0m\u001b[0;34m\u001b[0m\u001b[0;34m\u001b[0m\u001b[0m\n\u001b[1;32m   1031\u001b[0m     \u001b[0mversion_utils\u001b[0m\u001b[0;34m.\u001b[0m\u001b[0mdisallow_legacy_graph\u001b[0m\u001b[0;34m(\u001b[0m\u001b[0;34m'Model'\u001b[0m\u001b[0;34m,\u001b[0m \u001b[0;34m'fit'\u001b[0m\u001b[0;34m)\u001b[0m\u001b[0;34m\u001b[0m\u001b[0;34m\u001b[0m\u001b[0m\n\u001b[0;32m-> 1032\u001b[0;31m     \u001b[0mself\u001b[0m\u001b[0;34m.\u001b[0m\u001b[0m_assert_compile_was_called\u001b[0m\u001b[0;34m(\u001b[0m\u001b[0;34m)\u001b[0m\u001b[0;34m\u001b[0m\u001b[0;34m\u001b[0m\u001b[0m\n\u001b[0m\u001b[1;32m   1033\u001b[0m     \u001b[0mself\u001b[0m\u001b[0;34m.\u001b[0m\u001b[0m_check_call_args\u001b[0m\u001b[0;34m(\u001b[0m\u001b[0;34m'fit'\u001b[0m\u001b[0;34m)\u001b[0m\u001b[0;34m\u001b[0m\u001b[0;34m\u001b[0m\u001b[0m\n\u001b[1;32m   1034\u001b[0m     \u001b[0m_disallow_inside_tf_function\u001b[0m\u001b[0;34m(\u001b[0m\u001b[0;34m'fit'\u001b[0m\u001b[0;34m)\u001b[0m\u001b[0;34m\u001b[0m\u001b[0;34m\u001b[0m\u001b[0m\n",
            "\u001b[0;32m/usr/local/lib/python3.7/dist-packages/tensorflow/python/keras/engine/training.py\u001b[0m in \u001b[0;36m_assert_compile_was_called\u001b[0;34m(self)\u001b[0m\n\u001b[1;32m   2590\u001b[0m     \u001b[0;31m# (i.e. whether the model is built and its inputs/outputs are set).\u001b[0m\u001b[0;34m\u001b[0m\u001b[0;34m\u001b[0m\u001b[0;34m\u001b[0m\u001b[0m\n\u001b[1;32m   2591\u001b[0m     \u001b[0;32mif\u001b[0m \u001b[0;32mnot\u001b[0m \u001b[0mself\u001b[0m\u001b[0;34m.\u001b[0m\u001b[0m_is_compiled\u001b[0m\u001b[0;34m:\u001b[0m\u001b[0;34m\u001b[0m\u001b[0;34m\u001b[0m\u001b[0m\n\u001b[0;32m-> 2592\u001b[0;31m       raise RuntimeError('You must compile your model before '\n\u001b[0m\u001b[1;32m   2593\u001b[0m                          \u001b[0;34m'training/testing. '\u001b[0m\u001b[0;34m\u001b[0m\u001b[0;34m\u001b[0m\u001b[0m\n\u001b[1;32m   2594\u001b[0m                          'Use `model.compile(optimizer, loss)`.')\n",
            "\u001b[0;31mRuntimeError\u001b[0m: You must compile your model before training/testing. Use `model.compile(optimizer, loss)`."
          ]
        }
      ]
    }
  ]
}