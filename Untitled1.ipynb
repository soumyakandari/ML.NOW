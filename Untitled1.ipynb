{
  "nbformat": 4,
  "nbformat_minor": 0,
  "metadata": {
    "colab": {
      "name": "Untitled1.ipynb",
      "provenance": [],
      "authorship_tag": "ABX9TyPH29Z2Go16g9WqC0N4A1AZ",
      "include_colab_link": true
    },
    "kernelspec": {
      "name": "python3",
      "display_name": "Python 3"
    },
    "language_info": {
      "name": "python"
    },
    "accelerator": "GPU"
  },
  "cells": [
    {
      "cell_type": "markdown",
      "metadata": {
        "id": "view-in-github",
        "colab_type": "text"
      },
      "source": [
        "<a href=\"https://colab.research.google.com/github/soumyakandari/ML.NOW/blob/main/Untitled1.ipynb\" target=\"_parent\"><img src=\"https://colab.research.google.com/assets/colab-badge.svg\" alt=\"Open In Colab\"/></a>"
      ]
    },
    {
      "cell_type": "markdown",
      "metadata": {
        "id": "ATelM-ZKeclL"
      },
      "source": [
        "Date Created on :  23rd May     \n",
        "AUTHOR : [Soumya](https://github.com/soumyakandari)\n",
        "\n",
        "## **PROBLEM STATEMENT**\n",
        "Train a model to learn the table of 10 \n",
        "\n",
        " Equation : `y=10X`\n",
        "\n",
        "\n",
        "\n",
        "\n",
        "**DATA** **CREATION**\n",
        "\n",
        " Equation : \n",
        "`\n",
        "y=10X`\n",
        "Data set\n",
        "\n",
        "Target -->\n",
        "```\n",
        "xtrain= [0,1,2,3....]\n",
        "ytrain =[0,10,20,30..]\n",
        "```\n",
        "\n",
        "\n",
        "\n"
      ]
    },
    {
      "cell_type": "code",
      "metadata": {
        "colab": {
          "base_uri": "https://localhost:8080/"
        },
        "id": "RX2Pk7VqfCNw",
        "outputId": "1f8fe299-15db-4ea8-ff98-22d31659ce88"
      },
      "source": [
        " xtrain = [ i for i in range(21) ] #list comprehesnion\n",
        "print(xtrain)\n",
        "\n",
        "ytrain = [ i*10 for i in range(21)]\n",
        "print(ytrain)"
      ],
      "execution_count": 5,
      "outputs": [
        {
          "output_type": "stream",
          "text": [
            "[0, 1, 2, 3, 4, 5, 6, 7, 8, 9, 10, 11, 12, 13, 14, 15, 16, 17, 18, 19, 20]\n",
            "[0, 10, 20, 30, 40, 50, 60, 70, 80, 90, 100, 110, 120, 130, 140, 150, 160, 170, 180, 190, 200]\n"
          ],
          "name": "stdout"
        }
      ]
    },
    {
      "cell_type": "markdown",
      "metadata": {
        "id": "1av2k3XDeb2Y"
      },
      "source": [
        ""
      ]
    }
  ]
}